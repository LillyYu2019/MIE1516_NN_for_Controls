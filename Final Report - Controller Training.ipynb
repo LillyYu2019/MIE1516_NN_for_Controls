{
 "cells": [
  {
   "cell_type": "markdown",
   "metadata": {},
   "source": [
    "# MIE1516 Final Project: Neural Net Control of a Cart and Pole System"
   ]
  },
  {
   "cell_type": "markdown",
   "metadata": {},
   "source": [
    "## Table of Content\n",
    "\n",
    "* [1.0 Introduction](#1)\n",
    "    * [1.1 Motivation](#1.1)\n",
    "    * [1.2 CartPole Simulation Environment Overview](#1.2)\n",
    "    * [1.3 Methodology](#1.3)\n",
    "    * [1.4 Proposed Model Architecture](#1.4)\n",
    "* [2.0 Utility Funtions](#2)\n",
    "* [3.0 System Identification](#3)\n",
    "* [4.0 Controller Design](#4)\n",
    "* [5.0 Controller Training](#5)\n",
    "    * [5.1 Generating Data for Controller Training](#5.1)\n",
    "    * [5.2 Training Controller Models](#5.2)\n",
    "* [6.0 Controller Testing and Comparision](#6)\n",
    "    * [6.1 Results Discussion](#6.1)\n",
    "    * [6.2 Conclusing Remarks](#6.2)\n",
    "* [7.0 Controller Demo](#7)\n",
    "* [8.0 References](#8)"
   ]
  },
  {
   "cell_type": "markdown",
   "metadata": {},
   "source": [
    "## 1.0 Introduction  <a class=\"anchor\" id=\"1\"></a>"
   ]
  },
  {
   "cell_type": "markdown",
   "metadata": {},
   "source": [
    "### 1.1 Motivation <a class=\"anchor\" id=\"1.1\"></a>\n",
    "\n",
    "For the control of complex non-linear systems for which there are no analytical design techniques, a neural net can be used to implement highly non-linear controllers with internal parameters that can be determined through a learning process. This control method has the benefit of a “black-box” method, where there is no need to determine the analytical model of the system. The trade-off is that more data is needed, and the system may need to be stressed beyond its idea operating range. \n",
    "\n",
    "Reinforcement learning is a type of unsupervised learning algorithm based on a reward and punishment system. The key intent is to simplify the performance indicators of the controlled system. It is difficult to provide rigorous designs and analysis for reinforcement learning in the framework of standard control system theory since the reinforcement signal has reduced information.  \n",
    "\n",
    "Controller using supervised machine learning algorithms such as a deep neural has two parts. The first is the system identification stage where the neural net model of the system is determined. The second is the controller design stage where a second neural net is trained using the first neural net to achieve the desired reference signal using dynamic backpropagation. This method is commonly called Model Reference Control and has the advantage of being applicable to a large class of non-linear system, but the trade-off is that it is computationally expensive to train [1]. \n",
    "\n",
    "Both methods have been shown to perform well using benchmark test models, but not many studies compares the two directly.\n",
    "\n",
    "In this project, several control using neural net architecture will be compared against an expert reinforcement learning policy in terms of performance and model complexity. The benchmark used in this project will be the Cart and Pole system from OpenAI Gym."
   ]
  },
  {
   "cell_type": "markdown",
   "metadata": {},
   "source": [
    "### 1.2 CartPole Simulation Environment Overview <a class=\"anchor\" id=\"1.2\"></a>\n",
    "- **Reference:** GitHub. (2019). openai/gym. [online] Available at: https://github.com/openai/gym/wiki/CartPole-v0 [Accessed 28 Mar. 2019].\n",
    "- OpenAI Gym, Greg Brockman and Vicki Cheung and Ludwig Pettersson and Jonas Schneider and John Schulman and Jie Tang and Wojciech Zaremba 2016 \n",
    "\n",
    "#### Details\n",
    "* Name: CartPole-v0  \n",
    "* Category: Classic Control\n",
    "* [Leaderboard Page](https://github.com/openai/gym/wiki/Leaderboard#cartpole-v0)\n",
    "* Old links:\n",
    "  * [Environment Page](https://gym.openai.com/envs/CartPole-v0)  \n",
    "  * [Algorithms Page](https://gym.openai.com/algorithms?groups=classic_control)\n",
    "\n",
    "#### Description\n",
    "A pole is attached by an un-actuated joint to a cart, which moves along a frictionless track. The pendulum starts upright, and the goal is to prevent it from falling over by increasing and reducing the cart's velocity.\n",
    "\n",
    "\n",
    "#### Observation\n",
    "Type: Box(4)\n",
    "\n",
    "Num | Observation | Min | Max\n",
    "---|---|---|---\n",
    "0 | Cart Position | -2.4 | 2.4\n",
    "1 | Cart Velocity | -Inf | Inf\n",
    "2 | Pole Angle | ~ -41.8&deg; | ~ 41.8&deg;\n",
    "3 | Pole Velocity At Tip | -Inf | Inf\n",
    "\n",
    "#### Actions\n",
    "Type: Discrete(2)\n",
    "\n",
    "Num | Action\n",
    "--- | ---\n",
    "0 | Push cart to the left\n",
    "1 | Push cart to the right\n",
    "\n",
    "Note: The amount the velocity is reduced or increased is not fixed as it depends on the angle the pole is pointing. This is because the center of gravity of the pole increases the amount of energy needed to move the cart underneath it\n",
    "\n",
    "#### Reward\n",
    "Reward is 1 for every step taken, including the termination step\n",
    "\n",
    "#### Starting State\n",
    "All observations are assigned a uniform random value between ±0.05\n",
    "\n",
    "#### Episode Termination\n",
    "1. Pole Angle is more than ±12°\n",
    "2. Cart Position is more than ±2.4 (center of the cart reaches the edge of the display)\n",
    "3. Episode length is greater than 200"
   ]
  },
  {
   "cell_type": "markdown",
   "metadata": {},
   "source": [
    "### 1.3 Methodology Overview <a class=\"anchor\" id=\"1.3\"></a>"
   ]
  },
  {
   "cell_type": "markdown",
   "metadata": {},
   "source": [
    "Tabular Q learning training is found in the file \"Q-learning.ipynb\". This report covers in depth the neural net control method.\n",
    "\n",
    "Two neural nets will need to be trained, one for system identification and one for the controller. The goal is to use the first neural net to train the second one to achieve a specific reference signal. The cart and pole system will now be referred as the plant.\n",
    "\n",
    "**For system identification:**\n",
    "1. Generate data using the OpenAI gym environment, where random input is fed into the environment and the four output is recorded.\n",
    "2. Using the data generated, train a neural net that can emulate the behavior of the system. In other words, build a neural net to replace OpenAI gym environment. This is needed as to train the second network, as backpropagation through the plant is needed.\n",
    "\n",
    "**For controller training:**\n",
    "1. Generate a set of initial conditions using OpenAI gym.\n",
    "2. Propose a controller architecture.\n",
    "3. Feed the initial condition to the controller, then feed the output of the controller (push car to the left or right) to the above plant neural net model to predict the response of the system.\n",
    "4. Then feed the state of the plant to the controller again and repeat step 3 for a set amount of time steps.\n",
    "5. Define the loss function: sum((pole_angle - 0)^2), set only the controller parameters as trainable\n",
    "6. Optimize the controller parameters."
   ]
  },
  {
   "cell_type": "markdown",
   "metadata": {},
   "source": [
    "### 1.4 Proposed Model Architecture <a class=\"anchor\" id=\"1.4\"></a>"
   ]
  },
  {
   "cell_type": "markdown",
   "metadata": {},
   "source": [
    "#### Reinforcement Learning:\n",
    "1. Tabular Q learning with greedy epsilon strategy (Q learning)\n",
    "\n",
    "#### Neural Net Controls:\n",
    "2. 4 Layers Fully Connected (controller_FC) \n",
    "3. One directional RNN (controller_RNN) \n",
    "4. One directional LSTM (controller_LSTM)\n",
    "\n",
    "The above controllers will be compared against each other in terms of average pole angle deviation from upright, average cart position deviation from the middle, number of parameters and average runtime for 200 time steps."
   ]
  },
  {
   "cell_type": "code",
   "execution_count": 84,
   "metadata": {},
   "outputs": [],
   "source": [
    "import gym\n",
    "from gym.wrappers import Monitor\n",
    "import numpy as np\n",
    "import matplotlib.pyplot as plt\n",
    "from IPython.display import clear_output\n",
    "import time\n",
    "import pickle"
   ]
  },
  {
   "cell_type": "code",
   "execution_count": 2,
   "metadata": {},
   "outputs": [],
   "source": [
    "import torch\n",
    "import torch.nn as nn\n",
    "from torch.autograd import Variable\n",
    "import torch.nn.functional as F"
   ]
  },
  {
   "cell_type": "code",
   "execution_count": 3,
   "metadata": {},
   "outputs": [
    {
     "data": {
      "text/plain": [
       "device(type='cuda')"
      ]
     },
     "execution_count": 3,
     "metadata": {},
     "output_type": "execute_result"
    }
   ],
   "source": [
    "device = torch.device(\"cuda\" if torch.cuda.is_available() else \"cpu\")\n",
    "device"
   ]
  },
  {
   "cell_type": "code",
   "execution_count": 4,
   "metadata": {},
   "outputs": [],
   "source": [
    "env = gym.make('CartPole-v0')"
   ]
  },
  {
   "cell_type": "markdown",
   "metadata": {},
   "source": [
    "## 2.0 Utility Functions  <a class=\"anchor\" id=\"2\"></a>"
   ]
  },
  {
   "cell_type": "code",
   "execution_count": 5,
   "metadata": {},
   "outputs": [],
   "source": [
    "class Normalizer():\n",
    "    '''\n",
    "    Normalize the four state of the CartPole system to have mean 0 and standard deviation 1.\n",
    "    \n",
    "    '''\n",
    "    def __init__(self, mean,std):\n",
    "        self.mean = mean.cuda()\n",
    "        self.std = std.cuda()\n",
    "        \n",
    "    def normalize(self, data_n):\n",
    "        return (data_n-self.mean)/self.std\n",
    "    \n",
    "    def de_normalize(self,data_n):\n",
    "        return data_n*self.std+self.mean"
   ]
  },
  {
   "cell_type": "code",
   "execution_count": 6,
   "metadata": {},
   "outputs": [],
   "source": [
    "def plot_loss(count,loss_graph,scale=2):\n",
    "    '''\n",
    "    Plot loss over the number of epochs\n",
    "    \n",
    "    '''\n",
    "    xlabel='Number of Epoch'\n",
    "    ylabel='Mean Squared Root Error'\n",
    "    \n",
    "    width = scale*3.487\n",
    "    height = width / 1.618\n",
    "\n",
    "    fig = plt.figure(figsize=(width, height))\n",
    "    ax = fig.add_subplot(1, 1, 1)\n",
    "    \n",
    "    ax.set_ylabel(ylabel)\n",
    "    ax.set_xlabel(xlabel)\n",
    "    \n",
    "    ax.plot(count, loss_graph,'-')"
   ]
  },
  {
   "cell_type": "code",
   "execution_count": 7,
   "metadata": {},
   "outputs": [],
   "source": [
    "def plot_performance(expertReward,Title):\n",
    "    '''\n",
    "    Plot histogram of reward distribution\n",
    "    '''\n",
    "    plt.hist(expertReward,bins=50)\n",
    "    plt.title(Title + \": Reward Distribution\")\n",
    "    plt.xlabel(\"Reward\")\n",
    "    plt.ylabel(\"Frequency\")\n",
    "    unique, counts = np.unique(expertReward, return_counts=True)"
   ]
  },
  {
   "cell_type": "code",
   "execution_count": 94,
   "metadata": {},
   "outputs": [],
   "source": [
    "def compare_performance(pole_ang,car_pos,num_para,runtimes,models=['Q learning','FC','RNN','LSTM'],scale=2):\n",
    "    xlabel='Controller Model'\n",
    "    \n",
    "    width = scale*2*3.487\n",
    "    height = width / 1.618\n",
    "    \n",
    "    index = np.arange(4)\n",
    "    bar_width = 2\n",
    "\n",
    "    fig = plt.figure(figsize=(width, height))\n",
    "    \n",
    "    values=[pole_ang,car_pos,num_para,runtimes]\n",
    "    titles=['Fig 5a. Pole Angle Mean Deviation','Fig 5b. Car Position Mean Deviation','Fig 5c. Number of Parameters','Fig 5d. Runtime (sec)']\n",
    "    \n",
    "    for i in range(4):\n",
    "        ax = fig.add_subplot(2, 2, i+1)\n",
    "        ax.bar(range(1,5), values[i], alpha=0.5)\n",
    "        ax.set_title(titles[i])\n",
    "        ax.set_xticks(index + bar_width / 2)\n",
    "        ax.set_xticklabels(models)"
   ]
  },
  {
   "cell_type": "code",
   "execution_count": 62,
   "metadata": {},
   "outputs": [],
   "source": [
    "### Functions to run the Q Learning model\n",
    "\n",
    "def max_dict(d): \n",
    "    \"\"\"\n",
    "    looking for the action that gives the maximum value for a given state\n",
    "    \"\"\"\n",
    "    max_v = float('-inf')\n",
    "    for key, val in d.items():\n",
    "        if val > max_v:\n",
    "            max_v = val\n",
    "            max_key = key\n",
    "    return max_key, max_v\n",
    "\n",
    "def get_state_as_string(state):\n",
    "    \"\"\"\n",
    "    encoding the state into string as dictionary\n",
    "    \"\"\"\n",
    "    string_state=''\n",
    "    for e in state:\n",
    "            string_state = string_state+str(int(e)).zfill(2)\n",
    "    return string_state\n",
    "\n",
    "def create_bins(nbins = 10): \n",
    "    \"\"\"\n",
    "    create bins to discretize the continuous observable state space\n",
    "    \"\"\"\n",
    "    # obs[0] -> cart position --- -4.8 - 4.8\n",
    "    # obs[1] -> cart velocity --- -inf - inf\n",
    "    # obs[2] -> pole angle    --- -41.8 - 41.8\n",
    "    # obs[3] -> pole velocity --- -inf - inf\n",
    "\n",
    "    bins = np.zeros((4,nbins))\n",
    "    bins[0] = np.linspace(-4.8, 4.8, nbins)\n",
    "    bins[1] = np.linspace(-5, 5, nbins)\n",
    "    bins[2] = np.linspace(-.418, .418, nbins)\n",
    "    bins[3] = np.linspace(-5, 5, nbins)\n",
    "    return bins\n",
    "\n",
    "def assign_bins(observation, bins): \n",
    "    \"\"\"\n",
    "    discretizing the continuous observation space into state\n",
    "    \"\"\"\n",
    "    state = np.zeros(4)\n",
    "    for i in range(4):\n",
    "        state[i] = np.digitize(observation[i], bins[i])\n",
    "    return state\n",
    "\n",
    "def play_policy_Q(bins,Q,N=1000,render=False,delay=0.01):\n",
    "    \"\"\"\n",
    "    run an environment using a trained policy\n",
    "    \"\"\"\n",
    "    \n",
    "    totalReward=[]\n",
    "    pole_ang_MSE=0\n",
    "    car_pos_MSE=0\n",
    "    steps=[]\n",
    "    start = time.time()\n",
    "    \n",
    "    for n in range(N):\n",
    "        observation=env.reset()\n",
    "        done=False\n",
    "        episodeReward=0\n",
    "        angle_dev=[]\n",
    "        car_dev=[]\n",
    "        while not done:\n",
    "            if render:\n",
    "                env.render()\n",
    "                time.sleep(delay)\n",
    "            state=get_state_as_string(assign_bins(observation, bins))\n",
    "            act=max_dict(Q[state])[0]\n",
    "            observation,reward,done,_=env.step(act)\n",
    "            episodeReward+=reward\n",
    "            angle_dev.append(float(observation[2]))\n",
    "            car_dev.append(float(observation[0]))\n",
    "            \n",
    "        totalReward.append(episodeReward)\n",
    "        pole_ang_MSE+=sum(map(abs, angle_dev))/len(angle_dev)\n",
    "        car_pos_MSE+=sum(map(abs, car_dev))/len(car_dev)\n",
    "        \n",
    "    env.close()\n",
    "    end = time.time()\n",
    "    \n",
    "    return totalReward, pole_ang_MSE/N*57.2958,car_pos_MSE/N,end-start"
   ]
  },
  {
   "cell_type": "code",
   "execution_count": 63,
   "metadata": {},
   "outputs": [],
   "source": [
    "def play_policy(controller,normalizer,N=1000,render=False,delay=0.01,hidden_on=True):\n",
    "    \"\"\"\n",
    "    run an environment using a trained controller\n",
    "    \"\"\"\n",
    "    \n",
    "    totalReward=[]\n",
    "    pole_ang_MSE=0\n",
    "    car_pos_MSE=0\n",
    "    \n",
    "    start = time.time()\n",
    "    \n",
    "    for n in range(N):\n",
    "        \n",
    "        observation=env.reset()\n",
    "        done=False\n",
    "        episodeReward=0\n",
    "        angle_dev=[]\n",
    "        car_dev=[]\n",
    "        \n",
    "        if hidden_on:\n",
    "            hidden_c = controller.init_hidden(1)\n",
    "        \n",
    "        while not done:\n",
    "            if render:\n",
    "                env.render()\n",
    "                time.sleep(delay)\n",
    "                \n",
    "            predict=Variable(normalizer.normalize(torch.FloatTensor(observation).unsqueeze(0).unsqueeze(0).cuda()))\n",
    "            \n",
    "            if hidden_on:\n",
    "                hidden_c,act_c=controller(predict,hidden_c)\n",
    "            else:\n",
    "                act_c=controller(predict)\n",
    "            \n",
    "            if float(act_c[0,0,0].detach().cpu()) > 0.5:\n",
    "                act = 1\n",
    "            else:\n",
    "                act = 0\n",
    "            \n",
    "            observation,reward,done,_=env.step(int(act))\n",
    "            episodeReward+=reward\n",
    "            angle_dev.append(float(observation[2]))\n",
    "            car_dev.append(float(observation[0]))\n",
    "            \n",
    "        totalReward.append(episodeReward)\n",
    "        pole_ang_MSE+=sum(map(abs, angle_dev))/len(angle_dev)\n",
    "        car_pos_MSE+=sum(map(abs, car_dev))/len(car_dev)\n",
    "        \n",
    "    env.close()\n",
    "    \n",
    "    end = time.time()\n",
    "    \n",
    "    return totalReward, pole_ang_MSE/N*57.2958,car_pos_MSE/N, end-start"
   ]
  },
  {
   "cell_type": "code",
   "execution_count": 85,
   "metadata": {},
   "outputs": [],
   "source": [
    "def wrap_env(env, save_path):\n",
    "  env = Monitor(env, save_path, force=True)\n",
    "  return env"
   ]
  },
  {
   "cell_type": "markdown",
   "metadata": {},
   "source": [
    "## 3.0 System Identification  <a class=\"anchor\" id=\"3\"></a>"
   ]
  },
  {
   "cell_type": "markdown",
   "metadata": {},
   "source": [
    "Two architectures were investigated in system identification step: RNN and LSTM. The detail of the training can be found in the file \"System identification.ipynb\". The models were chosen because this was a time-series modeling and repeated computation was needed on variable input size. \n",
    "\n",
    "The input was the controller actions: push car left or right.\n",
    "\n",
    "The outputs were the four states: pole angle and velocity, cart position and velocity.\n",
    "\n",
    "The models were:\n",
    "- One directional RNN (Input=1,Output=4, Hidden States = 8, layers = 3)\n",
    "- One directional LSTM (Input=1,Output=4, Hidden States = 8, layers = 3)\n",
    "\n",
    "It was found the LSTM model predicted the dynamics munch better than the RNN model: \n",
    "- RNN model testing MSE: 0.018\n",
    "- LSTM model testing MS: 0.001\n",
    "\n",
    "The LSTM model error is ten times less than the RNN model. This is probably because the time response of non-linear dynamical system depends a lot on past values and not just the immediate past. It is known that RNN model can only use the immediate past whereas the LSTM model is able to store longer memory. There might be some dynamics in the system which have large time lags and thus the LSTM model was a better choice. As a result, for all controller training, the LSTM model will be use as the plant emulator."
   ]
  },
  {
   "cell_type": "code",
   "execution_count": 11,
   "metadata": {},
   "outputs": [],
   "source": [
    "class plant_LSTM(nn.Module):\n",
    "    def __init__(self, output_size = 4, input_size = 1, hidden_size = 8, num_layers = 3):\n",
    "        super(plant_LSTM,self).__init__()\n",
    "        \n",
    "        self.output_size = output_size\n",
    "        self.input_size = input_size\n",
    "        self.hidden_size = hidden_size\n",
    "        self.num_layers = num_layers\n",
    "        \n",
    "        self.lstm=nn.LSTM(input_size=self.input_size, hidden_size=self.hidden_size,batch_first=True,num_layers=self.num_layers)\n",
    "        self.fc = nn.Linear(self.hidden_size, self.output_size)\n",
    "        \n",
    "    def forward(self, x, hidden):\n",
    "        \n",
    "        out, hidden = self.lstm(x,hidden)\n",
    "        out = self.fc(out)\n",
    "\n",
    "        return hidden, out\n",
    "    \n",
    "    def init_hidden(self, init_state):\n",
    "        \n",
    "        zeros=torch.zeros([self.num_layers-1,init_state.size(0), self.hidden_size], dtype=torch.float32).cuda()\n",
    "        mid=torch.cat((init_state,init_state),dim=1).unsqueeze(0)\n",
    "        \n",
    "        h_0=Variable(torch.cat((mid,zeros),dim=0))\n",
    "        c_0=torch.zeros([self.num_layers, init_state.size(0),self.hidden_size], dtype=torch.float32).cuda()\n",
    "        \n",
    "        return (h_0,c_0)"
   ]
  },
  {
   "cell_type": "code",
   "execution_count": 20,
   "metadata": {},
   "outputs": [
    {
     "data": {
      "text/plain": [
       "plant_LSTM(\n",
       "  (lstm): LSTM(1, 8, num_layers=3, batch_first=True)\n",
       "  (fc): Linear(in_features=8, out_features=4, bias=True)\n",
       ")"
      ]
     },
     "execution_count": 20,
     "metadata": {},
     "output_type": "execute_result"
    }
   ],
   "source": [
    "#Load Plant Emulator Model\n",
    "PATH = 'Models/model_plant_LSTM'\n",
    "model_plant_LSTM = plant_LSTM()\n",
    "model_plant_LSTM.load_state_dict(torch.load(PATH))\n",
    "model_plant_LSTM.cuda()"
   ]
  },
  {
   "cell_type": "markdown",
   "metadata": {},
   "source": [
    "## 4.0 Controller Design <a class=\"anchor\" id=\"4\"></a>"
   ]
  },
  {
   "cell_type": "markdown",
   "metadata": {},
   "source": [
    "Three controller architecture are investigated:\n",
    "1. Fully Connected:\n",
    "    - Tanh(Input->8)\n",
    "    - Tanh(8->16)\n",
    "    - Tanh(16->32)\n",
    "    - Tanh(32->1)\n",
    "    - Sigmoid(1->Output)\n",
    "2. One directional RNN (Input=4,Output=1, Hidden States = 2, layers = 1)\n",
    "3. One directional LSTM (Input=1,Output=4, Hidden States = 3, layers = 2)\n",
    "\n",
    "The FC network was performing consistently over multiple tries, and thus no grid search was performed. For the RNN and LSTM model, grid search was performed over the number of hidden states and layers. The numbers above shows the optimal hyperparameters found. "
   ]
  },
  {
   "cell_type": "code",
   "execution_count": 12,
   "metadata": {},
   "outputs": [],
   "source": [
    "class controller_FC(nn.Module):\n",
    "    def __init__(self,output_size = 1, input_size = 4):\n",
    "        \n",
    "        super(controller_FC,self).__init__()\n",
    "        \n",
    "        self.output_size = output_size\n",
    "        self.input_size = input_size\n",
    "        \n",
    "        self.fc1 = nn.Linear(self.input_size, 8)\n",
    "        self.fc2 = nn.Linear(8, 16)\n",
    "        self.fc3 = nn.Linear(16, 32)\n",
    "        self.fc4 = nn.Linear(32, self.output_size)\n",
    "        self.tanh = nn.Tanh()\n",
    "        self.sig=nn.Sigmoid()\n",
    "        \n",
    "    def forward(self, x):\n",
    "        \n",
    "        out = self.tanh(self.fc1(x))\n",
    "        out = self.tanh(self.fc2(out))\n",
    "        out = self.tanh(self.fc3(out))\n",
    "        out = self.sig(self.fc4(out))\n",
    "        \n",
    "        return out"
   ]
  },
  {
   "cell_type": "code",
   "execution_count": 13,
   "metadata": {},
   "outputs": [],
   "source": [
    "class controller_RNN(nn.Module):\n",
    "    def __init__(self,output_size = 1, input_size = 4, hidden_size = 1, num_layers = 3):\n",
    "        \n",
    "        super(controller_RNN,self).__init__()\n",
    "        \n",
    "        self.output_size = output_size\n",
    "        self.input_size = input_size\n",
    "        self.hidden_size = hidden_size\n",
    "        self.num_layers = num_layers\n",
    "        \n",
    "        self.rnn=nn.RNN(input_size=input_size, hidden_size=hidden_size,batch_first=True,num_layers=num_layers)\n",
    "        self.fc = nn.Linear(hidden_size, output_size)\n",
    "        self.sig=nn.Sigmoid()\n",
    "        \n",
    "    def forward(self, x,hidden):\n",
    "        \n",
    "        out, hidden = self.rnn(x,hidden)\n",
    "        out = self.fc(out)\n",
    "        out = self.sig(out)\n",
    "        \n",
    "        return hidden, out\n",
    "    \n",
    "    def init_hidden(self,size):\n",
    "        \n",
    "        return torch.zeros([self.num_layers, size,self.hidden_size], dtype=torch.float32).cuda()"
   ]
  },
  {
   "cell_type": "code",
   "execution_count": 14,
   "metadata": {},
   "outputs": [],
   "source": [
    "class controller_LSTM(nn.Module):\n",
    "    def __init__(self,output_size = 1, input_size = 4, hidden_size = 1, num_layers = 3):\n",
    "        \n",
    "        super(controller_LSTM,self).__init__()\n",
    "        \n",
    "        self.output_size = output_size\n",
    "        self.input_size = input_size\n",
    "        self.hidden_size = hidden_size\n",
    "        self.num_layers = num_layers\n",
    "        \n",
    "        self.lstm=nn.LSTM(input_size=input_size, hidden_size=hidden_size,batch_first=True,num_layers=num_layers)\n",
    "        self.fc = nn.Linear(hidden_size, output_size)\n",
    "        self.sig=nn.Sigmoid()\n",
    "        \n",
    "    def forward(self, x, hidden):\n",
    "        \n",
    "        out, hidden = self.lstm(x,hidden)\n",
    "        out = self.fc(out)\n",
    "        out = self.sig(out)\n",
    "        \n",
    "        return hidden, out\n",
    "    \n",
    "    def init_hidden(self,size):\n",
    "        zeros = torch.zeros([self.num_layers, size,self.hidden_size], dtype=torch.float32).cuda()\n",
    "        return (zeros,zeros)"
   ]
  },
  {
   "cell_type": "markdown",
   "metadata": {},
   "source": [
    "## 5.0 Controller Training  <a class=\"anchor\" id=\"5\"></a>"
   ]
  },
  {
   "cell_type": "markdown",
   "metadata": {},
   "source": [
    "The three proposed controllers are trained using 1000 initial conditions generated from running OpenAI GYM. \n",
    "\n",
    "Then they are tested using over 500 runs using OpenAI GYM to obtain average performance."
   ]
  },
  {
   "cell_type": "code",
   "execution_count": 15,
   "metadata": {},
   "outputs": [],
   "source": [
    "def train_controller(model_controller,model_plant,init_cond_data_n,hidden_on=True,alpha=0.0, init_lr=0.005,N=2001,sequence_length=15):\n",
    "    \n",
    "    criterion = nn.MSELoss()\n",
    "    \n",
    "    #Only set the controller NN parameters as trainable.\n",
    "    optimizer = torch.optim.Adam(model_controller.parameters(), lr=init_lr)\n",
    "\n",
    "    count=[]\n",
    "    loss_graph=[]\n",
    "\n",
    "    y_target = torch.zeros(batch_size).cuda()\n",
    "\n",
    "    for epoch in range(N):\n",
    "\n",
    "        model_controller.zero_grad()\n",
    "        loss=0\n",
    "        \n",
    "        # If the controller model has hidden parameters, then initialize them\n",
    "        if hidden_on:\n",
    "            hidden_c = model_controller.init_hidden(batch_size)\n",
    "        \n",
    "        #Initialize the starting state of the Cart and Pole\n",
    "        predict = init_cond_data_n\n",
    "        hidden_p = model_plant.init_hidden(init_cond_data_n.view(batch_size,-1))\n",
    "\n",
    "        for i in range(sequence_length):\n",
    "            \n",
    "            # Feed the state of the cart and pole into the controller NN to obtain controller action\n",
    "            if hidden_on:\n",
    "                hidden_c,act = model_controller(predict,hidden_c)\n",
    "            else:\n",
    "                act = model_controller(predict)\n",
    "            \n",
    "            # Feed the controller action to the plant NN to obtain a prediction of the system responce\n",
    "            hidden_p,predict=model_plant(act,hidden_p)\n",
    "            \n",
    "            #define the loss function to be the deviation of the pole from upright position\n",
    "            loss+=criterion(predict[:,0,2],y_target)\n",
    "        \n",
    "        if epoch % 100 == 0:\n",
    "            clear_output(wait=True)\n",
    "            print(\"epoch: %d, loss: %1.5f\" % (epoch + 1, loss.data))\n",
    "            \n",
    "        count.append(epoch)\n",
    "        loss_graph.append(loss.data)\n",
    "        \n",
    "        #Backpropagate and optimize the controller parameters to acheive optimal control\n",
    "        loss.backward()\n",
    "        optimizer.step()\n",
    "    \n",
    "    return count, loss_graph"
   ]
  },
  {
   "cell_type": "markdown",
   "metadata": {},
   "source": [
    "### 5.1 Generating Data for Controller Training <a class=\"anchor\" id=\"5.1\"></a>"
   ]
  },
  {
   "cell_type": "code",
   "execution_count": 16,
   "metadata": {},
   "outputs": [],
   "source": [
    "#Loading the mean and std from plant NN for normalization\n",
    "normalizer_open = open('Models/normalizer', 'rb') \n",
    "normalizer=pickle.load(normalizer_open)"
   ]
  },
  {
   "cell_type": "code",
   "execution_count": 17,
   "metadata": {},
   "outputs": [],
   "source": [
    "batch_size = 1000\n",
    "\n",
    "init_cond_data = []\n",
    "j=0\n",
    "\n",
    "while not j>= batch_size:\n",
    "    \n",
    "    observation = env.reset()\n",
    "    \n",
    "    if observation.tolist() not in init_cond_data:\n",
    "        init_cond_data.append(observation.tolist())\n",
    "        j=j+1"
   ]
  },
  {
   "cell_type": "code",
   "execution_count": 18,
   "metadata": {},
   "outputs": [
    {
     "name": "stdout",
     "output_type": "stream",
     "text": [
      "torch.Size([1000, 1, 4])\n"
     ]
    }
   ],
   "source": [
    "init_cond_data_t=torch.FloatTensor(init_cond_data).unsqueeze(1).cuda()\n",
    "init_cond_data_n = Variable(normalizer.normalize(init_cond_data_t))\n",
    "print(init_cond_data_n.shape)"
   ]
  },
  {
   "cell_type": "markdown",
   "metadata": {},
   "source": [
    "### 5.2 Training Controller Models <a class=\"anchor\" id=\"5.2\"></a>"
   ]
  },
  {
   "cell_type": "code",
   "execution_count": 51,
   "metadata": {},
   "outputs": [],
   "source": [
    "# Set this to True if wishing to perform grid search for the RNN and LSTM models\n",
    "Gridsearch= False\n",
    "# Set this to True if wishing to train models, otherwise model will be loaded from the \"Models\" folder\n",
    "Training = True"
   ]
  },
  {
   "cell_type": "markdown",
   "metadata": {},
   "source": [
    "#### Fully Connected NN Controller"
   ]
  },
  {
   "cell_type": "code",
   "execution_count": 52,
   "metadata": {
    "scrolled": false
   },
   "outputs": [
    {
     "name": "stdout",
     "output_type": "stream",
     "text": [
      "epoch: 2001, loss: 0.19591\n",
      "controller_FC(\n",
      "  (fc1): Linear(in_features=4, out_features=8, bias=True)\n",
      "  (fc2): Linear(in_features=8, out_features=16, bias=True)\n",
      "  (fc3): Linear(in_features=16, out_features=32, bias=True)\n",
      "  (fc4): Linear(in_features=32, out_features=1, bias=True)\n",
      "  (tanh): Tanh()\n",
      "  (sig): Sigmoid()\n",
      ")\n"
     ]
    },
    {
     "data": {
      "image/png": "[encoded data removed]",
      "text/plain": [
       "<Figure size 502.128x310.339 with 1 Axes>"
      ]
     },
     "metadata": {
      "needs_background": "light"
     },
     "output_type": "display_data"
    }
   ],
   "source": [
    "model_controller_FC = controller_FC()\n",
    "model_controller_FC.cuda()\n",
    "\n",
    "\n",
    "PATH = 'Models/model_controller_FC'\n",
    "\n",
    "if Training:\n",
    "    #Train controller is training is true\n",
    "    count,loss_graph = train_controller(model_controller_FC,model_plant_LSTM,init_cond_data_n,hidden_on=False)\n",
    "    print(model_controller_FC)\n",
    "    #Plot loss over the number of epoches\n",
    "    plot_loss(count,loss_graph)\n",
    "    #save model\n",
    "    torch.save(model_controller_FC.state_dict(), PATH)\n",
    "\n",
    "else:\n",
    "    #Load model is not wishin to train\n",
    "    model_controller_FC.load_state_dict(torch.load(PATH))"
   ]
  },
  {
   "cell_type": "markdown",
   "metadata": {},
   "source": [
    "#### RNN Controller with Grid Search\n",
    "\n",
    "Optimal hyperparameters found by grid search over hidden size range of 1 to 8 and number of layers range of 1 to 3 is (2,1) for hidden size and number of layers respectively. The optimal hyperparameters were then used for the final training."
   ]
  },
  {
   "cell_type": "code",
   "execution_count": 46,
   "metadata": {},
   "outputs": [
    {
     "name": "stdout",
     "output_type": "stream",
     "text": [
      "[2, 1]\n"
     ]
    }
   ],
   "source": [
    "if Gridsearch:\n",
    "    key=[]\n",
    "    gridsearch_loss_RNN=[]\n",
    "    for i in range(8):\n",
    "        for y in range(3):\n",
    "            model_controller_RNN = controller_RNN(hidden_size=i+1,num_layers=y+1).cuda()\n",
    "            count,loss_graph = train_controller(model_controller_RNN,model_plant_LSTM,init_cond_data_n,N=1501)\n",
    "            TotalReward, pole_ang_MSE, car_pos_MSE,runtime = play_policy(model_controller_RNN,normalizer,N=100,hidden_on=True)\n",
    "            key.append([i+1,y+1])\n",
    "            gridsearch_loss_RNN.append(pole_ang_MSE)\n",
    "            \n",
    "print(key[gridsearch_loss_RNN.index(min(gridsearch_loss_RNN))])"
   ]
  },
  {
   "cell_type": "code",
   "execution_count": 53,
   "metadata": {
    "scrolled": false
   },
   "outputs": [
    {
     "name": "stdout",
     "output_type": "stream",
     "text": [
      "epoch: 2001, loss: 0.24111\n",
      "controller_RNN(\n",
      "  (rnn): RNN(4, 2, batch_first=True)\n",
      "  (fc): Linear(in_features=2, out_features=1, bias=True)\n",
      "  (sig): Sigmoid()\n",
      ")\n"
     ]
    },
    {
     "data": {
      "image/png": "[encoded data removed]",
      "text/plain": [
       "<Figure size 502.128x310.339 with 1 Axes>"
      ]
     },
     "metadata": {
      "needs_background": "light"
     },
     "output_type": "display_data"
    }
   ],
   "source": [
    "model_controller_RNN = controller_RNN(hidden_size=2,num_layers=1)\n",
    "model_controller_RNN.cuda()\n",
    "\n",
    "PATH = 'Models/model_controller_RNN'\n",
    "        \n",
    "if Training:\n",
    "    #Train controller is training is true\n",
    "    count,loss_graph = train_controller(model_controller_RNN,model_plant_LSTM,init_cond_data_n)\n",
    "    print(model_controller_RNN)\n",
    "    #Plot loss over the number of epoches\n",
    "    plot_loss(count,loss_graph)\n",
    "    #save model\n",
    "    torch.save(model_controller_RNN.state_dict(), PATH)\n",
    "\n",
    "else:\n",
    "    #Load model is not wishin to train\n",
    "    model_controller_RNN.load_state_dict(torch.load(PATH))"
   ]
  },
  {
   "cell_type": "markdown",
   "metadata": {},
   "source": [
    "#### LSTM Controller with Grid Search\n",
    "\n",
    "Optimal hyperparameters found by grid search over hidden size range of 1 to 8 and number of layers range of 1 to 3 is (3,2) for hidden size and number of layers respectively. The optimal hyperparameters were then used for the final training."
   ]
  },
  {
   "cell_type": "code",
   "execution_count": 49,
   "metadata": {},
   "outputs": [
    {
     "name": "stdout",
     "output_type": "stream",
     "text": [
      "epoch: 1501, loss: 0.19200\n",
      "[3, 2]\n"
     ]
    }
   ],
   "source": [
    "if Gridsearch:\n",
    "    key=[]\n",
    "    gridsearch_loss_LSTM=[]\n",
    "    for i in range(8):\n",
    "        for y in range(3):\n",
    "            model_controller_LSTM = controller_LSTM(hidden_size=i+1,num_layers=y+1)\n",
    "            model_controller_LSTM.cuda()\n",
    "            count,loss_graph = train_controller(model_controller_LSTM,model_plant_LSTM,init_cond_data_n,N=1501)\n",
    "            key.append([i+1,y+1])\n",
    "            TotalReward, pole_ang_MSE, car_pos_MSE,runtime = play_policy(model_controller_LSTM,normalizer,N=100,hidden_on=True)\n",
    "            gridsearch_loss_LSTM.append(pole_ang_MSE)\n",
    "            \n",
    "    print(key[gridsearch_loss_LSTM.index(min(gridsearch_loss_LSTM))])"
   ]
  },
  {
   "cell_type": "code",
   "execution_count": 54,
   "metadata": {},
   "outputs": [
    {
     "name": "stdout",
     "output_type": "stream",
     "text": [
      "epoch: 2001, loss: 0.19766\n",
      "controller_LSTM(\n",
      "  (lstm): LSTM(4, 3, num_layers=2, batch_first=True)\n",
      "  (fc): Linear(in_features=3, out_features=1, bias=True)\n",
      "  (sig): Sigmoid()\n",
      ")\n"
     ]
    },
    {
     "data": {
      "image/png": "[encoded data removed]",
      "text/plain": [
       "<Figure size 502.128x310.339 with 1 Axes>"
      ]
     },
     "metadata": {
      "needs_background": "light"
     },
     "output_type": "display_data"
    }
   ],
   "source": [
    "model_controller_LSTM = controller_LSTM(hidden_size=3,num_layers=2)\n",
    "model_controller_LSTM.cuda()\n",
    "\n",
    "PATH = 'Models/model_controller_LSTM'\n",
    "\n",
    "if Training:\n",
    "    \n",
    "    count,loss_graph = train_controller(model_controller_LSTM,model_plant_LSTM,init_cond_data_n)\n",
    "    print(model_controller_LSTM)\n",
    "    plot_loss(count,loss_graph)\n",
    "    torch.save(model_controller_LSTM.state_dict(), PATH)\n",
    "\n",
    "else:\n",
    "    model_controller_LSTM.load_state_dict(torch.load(PATH))"
   ]
  },
  {
   "cell_type": "markdown",
   "metadata": {},
   "source": [
    "## 6.0 Controller Testing and Comparasion  <a class=\"anchor\" id=\"6\"></a>"
   ]
  },
  {
   "cell_type": "code",
   "execution_count": 100,
   "metadata": {},
   "outputs": [],
   "source": [
    "# The four metrics that will be used to compare the four controllers\n",
    "pole_ang=[]\n",
    "car_pos=[]\n",
    "num_para=[]\n",
    "runtimes=[]"
   ]
  },
  {
   "cell_type": "markdown",
   "metadata": {},
   "source": [
    "### Loading and testing the Q learning reinforcement learning algorithm.\n",
    "\n",
    "The Q learning algorithm loads a lookup table, where the four continuous state variables are divided into bins. For each combination of states, the lookup table will give you the action with the highest probability to generate better rewards. At each timestep, you can look up the state in the Q table, and choose the action with the highest probability."
   ]
  },
  {
   "cell_type": "code",
   "execution_count": 101,
   "metadata": {},
   "outputs": [
    {
     "data": {
      "image/png": "[encoded data removed]",
      "text/plain": [
       "<Figure size 432x288 with 1 Axes>"
      ]
     },
     "metadata": {
      "needs_background": "light"
     },
     "output_type": "display_data"
    }
   ],
   "source": [
    "#Load Q learning table from the saved models\n",
    "bins=create_bins()\n",
    "expert_Q_open = open('Models/expert_Q', 'rb') \n",
    "expert_Q=pickle.load(expert_Q_open)\n",
    "\n",
    "TotalReward, pole_ang_MSE, car_pos_MSE,runtime=play_policy_Q(bins,expert_Q,N=500,render=False)\n",
    "plot_performance(TotalReward,\"Fig 1. Q learning\")\n",
    "pole_ang.append(pole_ang_MSE)\n",
    "car_pos.append(car_pos_MSE)\n",
    "num_para.append(len(expert_Q))\n",
    "runtimes.append(runtime)"
   ]
  },
  {
   "cell_type": "markdown",
   "metadata": {},
   "source": [
    "#### Testing the Fully Connected NN Controller"
   ]
  },
  {
   "cell_type": "code",
   "execution_count": 102,
   "metadata": {},
   "outputs": [
    {
     "data": {
      "image/png": "[encoded data removed]",
      "text/plain": [
       "<Figure size 432x288 with 1 Axes>"
      ]
     },
     "metadata": {
      "needs_background": "light"
     },
     "output_type": "display_data"
    }
   ],
   "source": [
    "TotalReward, pole_ang_MSE, car_pos_MSE,runtime = play_policy(model_controller_FC,normalizer,N=500,hidden_on=False)\n",
    "plot_performance(TotalReward,\"Fig 2. Fully Connected NN Controller\")\n",
    "pole_ang.append(pole_ang_MSE)\n",
    "car_pos.append(car_pos_MSE)\n",
    "num_para.append(sum(p.numel() for p in model_controller_FC.parameters()))\n",
    "runtimes.append(runtime)"
   ]
  },
  {
   "cell_type": "markdown",
   "metadata": {},
   "source": [
    "#### Testing the RNN Controller"
   ]
  },
  {
   "cell_type": "code",
   "execution_count": 103,
   "metadata": {},
   "outputs": [
    {
     "data": {
      "image/png": "[encoded data removed]",
      "text/plain": [
       "<Figure size 432x288 with 1 Axes>"
      ]
     },
     "metadata": {
      "needs_background": "light"
     },
     "output_type": "display_data"
    }
   ],
   "source": [
    "TotalReward, pole_ang_MSE, car_pos_MSE,runtime = play_policy(model_controller_RNN,normalizer,N=500,hidden_on=True)\n",
    "plot_performance(TotalReward,'Fig 3. RNN Controller')\n",
    "pole_ang.append(pole_ang_MSE)\n",
    "car_pos.append(car_pos_MSE)\n",
    "num_para.append(sum(p.numel() for p in model_controller_RNN.parameters()))\n",
    "runtimes.append(runtime)"
   ]
  },
  {
   "cell_type": "markdown",
   "metadata": {},
   "source": [
    "#### Testing the LSTM Controller"
   ]
  },
  {
   "cell_type": "code",
   "execution_count": 104,
   "metadata": {
    "scrolled": true
   },
   "outputs": [
    {
     "data": {
      "image/png": "[encoded data removed]",
      "text/plain": [
       "<Figure size 432x288 with 1 Axes>"
      ]
     },
     "metadata": {
      "needs_background": "light"
     },
     "output_type": "display_data"
    }
   ],
   "source": [
    "TotalReward, pole_ang_MSE, car_pos_MSE,runtime = play_policy(model_controller_LSTM,normalizer,N=500,hidden_on=True)\n",
    "plot_performance(TotalReward,'Fig 4. LSTM Controller')\n",
    "pole_ang.append(pole_ang_MSE)\n",
    "car_pos.append(car_pos_MSE)\n",
    "num_para.append(sum(p.numel() for p in model_controller_LSTM.parameters()))\n",
    "runtimes.append(runtime)"
   ]
  },
  {
   "cell_type": "markdown",
   "metadata": {},
   "source": [
    "#### Compare the performance of the Controller"
   ]
  },
  {
   "cell_type": "code",
   "execution_count": 105,
   "metadata": {},
   "outputs": [
    {
     "data": {
      "image/png": "[encoded data removed]",
      "text/plain": [
       "<Figure size 1004.26x620.677 with 4 Axes>"
      ]
     },
     "metadata": {
      "needs_background": "light"
     },
     "output_type": "display_data"
    }
   ],
   "source": [
    "compare_performance(pole_ang,car_pos,num_para,runtimes)"
   ]
  },
  {
   "cell_type": "markdown",
   "metadata": {},
   "source": [
    "### 6.1 Results Discussion <a class=\"anchor\" id=\"6.1\"></a>"
   ]
  },
  {
   "cell_type": "markdown",
   "metadata": {},
   "source": [
    "From Figure 1 to 4, for 500 test runs, all four controllers were able to pass the objective apart from the LSTM controller. In other words, apart from the LSTM controller, all other three were able to keep the pole upright for 200 timesteps. Even with grid search, the LSTM controller was not able to meet the objectives. This means that the LSTM architecture in this case, was not well suited for this controller.  This shows that the controller itself was not a time dependent dynamical system and was simply a non-linear function that could be approximated using a FC or RNN network.\n",
    "\n",
    "Comparing the other three controllers, the FC controller excel at almost all metrics. Out of the three, it has the lowest MSE for pole angle and car position based on Figure 5a and 5b. Even though car deviation from the middle was not a required objective, it was interesting to look at as it showed the amount of effort needed to keep the pole upright, which could be a secondary objective for this system.\n",
    "\n",
    "For the number of parameters, because the Q learning algorithm was storing a look up table, it required the largest number of parameters, but it also gave the shortest computational time since it used a lookup function. As a result, for the three controllers, it was a trade-off between memory storage and computational time."
   ]
  },
  {
   "cell_type": "markdown",
   "metadata": {},
   "source": [
    "### 6.2 Conclusing Remarks <a class=\"anchor\" id=\"6.2\"></a>"
   ]
  },
  {
   "cell_type": "markdown",
   "metadata": {},
   "source": [
    "It is worthy to note that the reinforcement learning algorithm used in this case is a very simple one. There are much more advance algorithms that were not investigated in this report. This report focused mostly on using different neural net for controls.\n",
    "\n",
    "Based on the algorithm investigated, for the fully actuated non-linear control system like the CartPole example, the LSTM model is the most well suited for system identification, while the FC model performed the best for constant reference signal tracking. The RNN controller model is also a good alternative if less storage and shorter computational time is needed.\n",
    "\n",
    "During this project, it was found that the performance of the controller is very dependent on the quality and amount of data obtained on the real system. In this case, the \"real\" system was an OpenAI GYM environment with no friction and relatively speaking simple dynamics. For more complicated systems with larger number of states and inputs, it is expected that more data and time is needed to train larger networks to achieve good controller performance. \n",
    "\n",
    "Nevertheless, neural network has a very promising role in non-linear control as it can be used as a black box method to approximate complex controllers and emulate complex dynamical systems that may not have an analytical solution as shown in this project."
   ]
  },
  {
   "cell_type": "markdown",
   "metadata": {},
   "source": [
    "## 7.0 Controller Demo <a class=\"anchor\" id=\"7\"></a>"
   ]
  },
  {
   "cell_type": "markdown",
   "metadata": {},
   "source": [
    "Record and save videos of the controller in action for the rendered OpenAI GYM environment. "
   ]
  },
  {
   "cell_type": "code",
   "execution_count": 90,
   "metadata": {},
   "outputs": [],
   "source": [
    "save_path = 'Controller_Demo/expert_Q'\n",
    "env = wrap_env(gym.make('CartPole-v0'),save_path)\n",
    "TotalReward, pole_ang_MSE, car_pos_MSE,runtime=play_policy_Q(bins,expert_Q,N=1,render=True,delay=0.05)"
   ]
  },
  {
   "cell_type": "code",
   "execution_count": 91,
   "metadata": {},
   "outputs": [],
   "source": [
    "save_path = 'Controller_Demo/model_controller_FC'\n",
    "env = wrap_env(gym.make('CartPole-v0'),save_path)\n",
    "TotalReward, pole_ang_MSE, car_pos_MSE,runtime=play_policy(model_controller_FC,normalizer,N=1,render=True,delay=0.05,hidden_on=False)"
   ]
  },
  {
   "cell_type": "code",
   "execution_count": 92,
   "metadata": {},
   "outputs": [],
   "source": [
    "save_path = 'Controller_Demo/model_controller_RNN'\n",
    "env = wrap_env(gym.make('CartPole-v0'),save_path)\n",
    "TotalReward, pole_ang_MSE, car_pos_MSE,runtime=play_policy(model_controller_RNN,normalizer,N=1,render=True,delay=0.05,hidden_on=True)"
   ]
  },
  {
   "cell_type": "code",
   "execution_count": 93,
   "metadata": {},
   "outputs": [],
   "source": [
    "save_path = 'Controller_Demo/model_controller_LSTM'\n",
    "env = wrap_env(gym.make('CartPole-v0'),save_path)\n",
    "TotalReward, pole_ang_MSE, car_pos_MSE,runtime=play_policy(model_controller_LSTM,normalizer,N=1,render=True,delay=0.05,hidden_on=True)"
   ]
  },
  {
   "cell_type": "markdown",
   "metadata": {},
   "source": [
    "## 8.0 references  <a class=\"anchor\" id=\"8\"></a>"
   ]
  },
  {
   "cell_type": "markdown",
   "metadata": {},
   "source": [
    "- [1] M. T. Hagan, H. B. Demuth and O. D. Jesus, \"An Introduction to the Use of Neural Networks in Control Systems,\" International Journal of Robust and Nonlinear Control, Vol 12, Issue 11, 2002. \n",
    "- GitHub. (2019). openai/gym. [online] Available at: https://github.com/openai/gym/wiki/CartPole-v0 [Accessed 28 Mar. 2019].\n",
    "- OpenAI Gym, Greg Brockman and Vicki Cheung and Ludwig Pettersson and Jonas Schneider and John Schulman and Jie Tang and Wojciech Zaremba 2016 \n",
    "- Conyngham, P. (2018). Rendering OpenAi Gym in Google Colaboratory. [Blog] StarAI Applied Research Blog. Available at: https://star-ai.github.io/Rendering-OpenAi-Gym-in-Colaboratory/ [Accessed 26 Mar. 2019].\n",
    "-   Phil Tabor, OpenAI-Cartpole, (2017), GitHub repository, https://github.com/philtabor/OpenAI-Cartpole\n"
   ]
  }
 ],
 "metadata": {
  "kernelspec": {
   "display_name": "Python 3",
   "language": "python",
   "name": "python3"
  },
  "language_info": {
   "codemirror_mode": {
    "name": "ipython",
    "version": 3
   },
   "file_extension": ".py",
   "mimetype": "text/x-python",
   "name": "python",
   "nbconvert_exporter": "python",
   "pygments_lexer": "ipython3",
   "version": "3.7.1"
  }
 },
 "nbformat": 4,
 "nbformat_minor": 2
}
